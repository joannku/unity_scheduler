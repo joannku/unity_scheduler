{
 "cells": [
  {
   "cell_type": "code",
   "execution_count": 11,
   "metadata": {},
   "outputs": [],
   "source": [
    "import datetime\n",
    "import os\n",
    "from src.OutlookEmailer import OutlookEmailer\n",
    "\n",
    "creds = 'admin/creds.json'\n",
    "emailer = OutlookEmailer(creds)\n",
    "creds_dict = emailer.get_creds(creds)"
   ]
  },
  {
   "cell_type": "code",
   "execution_count": 14,
   "metadata": {},
   "outputs": [],
   "source": [
    "def create_ics_attachment(subject, description, start_time, end_time, location):\n",
    "    # Generate the ICS content as a string\n",
    "    ics_content = f\"\"\"BEGIN:VCALENDAR\n",
    "VERSION:2.0\n",
    "PRODID:-//Your Organization//NONSGML v1.0//EN\n",
    "BEGIN:VEVENT\n",
    "UID:{datetime.datetime.now().strftime('%Y%m%dT%H%M%SZ')}\n",
    "DTSTAMP:{datetime.datetime.now().strftime('%Y%m%dT%H%M%SZ')}\n",
    "DTSTART:{start_time.strftime('%Y%m%dT%H%M%SZ')}\n",
    "DTEND:{end_time.strftime('%Y%m%dT%H%M%SZ')}\n",
    "SUMMARY:{subject}\n",
    "DESCRIPTION:{description}\n",
    "LOCATION:{location}\n",
    "END:VEVENT\n",
    "END:VCALENDAR\n",
    "\"\"\"\n",
    "\n",
    "    # Write ICS content to a file\n",
    "    ics_file_path = \"calendarInvite2.ics\"\n",
    "    with open(ics_file_path, 'w') as f:\n",
    "        f.write(ics_content)\n",
    "    \n",
    "    return ics_file_path"
   ]
  },
  {
   "cell_type": "code",
   "execution_count": 15,
   "metadata": {},
   "outputs": [
    {
     "name": "stdout",
     "output_type": "stream",
     "text": [
      "Outlook email authentication successful.\n",
      "Email None from joanna.kuc.22@ucl.ac.uk to ['joanna.kuc.22@ucl.ac.uk'] sent successfully!\n"
     ]
    }
   ],
   "source": [
    "# Example usage\n",
    "creds_dict = emailer.get_creds(creds)\n",
    "start_time = datetime.datetime(2024, 9, 15, 10, 0)  # Example start time\n",
    "end_time = datetime.datetime(2024, 9, 15, 11, 0)  # Example end time\n",
    "\n",
    "# Create the .ics attachment using the external function\n",
    "ics_attachment = create_ics_attachment(\n",
    "    subject=\"Meeting Title\",\n",
    "    description=\"Meeting Details in the body\",\n",
    "    start_time=start_time,\n",
    "    end_time=end_time,\n",
    "    location=\"Online Meeting\"\n",
    ")\n",
    "\n",
    "# Call the original function with the generated .ics attachment\n",
    "email = emailer.send_email_from_outlook(\n",
    "    sender = 'joanna.kuc.22@ucl.ac.uk',\n",
    "    recepients = [\"joanna.kuc.22@ucl.ac.uk\"],\n",
    "    subject=\"Title\",\n",
    "    email_body=\"Body\",\n",
    "    attachments_paths=[ics_attachment],  # Pass the .ics attachment here\n",
    "    code=None\n",
    ")\n",
    "\n",
    "# Delete the .ics file after sending the email\n",
    "# os.remove(ics_attachment)\n",
    "\n"
   ]
  },
  {
   "cell_type": "code",
   "execution_count": null,
   "metadata": {},
   "outputs": [],
   "source": []
  }
 ],
 "metadata": {
  "kernelspec": {
   "display_name": ".venv",
   "language": "python",
   "name": "python3"
  },
  "language_info": {
   "codemirror_mode": {
    "name": "ipython",
    "version": 3
   },
   "file_extension": ".py",
   "mimetype": "text/x-python",
   "name": "python",
   "nbconvert_exporter": "python",
   "pygments_lexer": "ipython3",
   "version": "3.8.10"
  },
  "orig_nbformat": 4,
  "vscode": {
   "interpreter": {
    "hash": "7ac8358d1b503c0f96e2d08601dd0f543e7a4e671455add481bb868c5f9844e3"
   }
  }
 },
 "nbformat": 4,
 "nbformat_minor": 2
}
